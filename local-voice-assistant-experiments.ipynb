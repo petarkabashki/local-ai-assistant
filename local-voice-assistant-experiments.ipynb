{
 "cells": [
  {
   "cell_type": "markdown",
   "metadata": {},
   "source": [
    "# Building a Simple Local AI Voice Assistant"
   ]
  },
  {
   "cell_type": "markdown",
   "metadata": {},
   "source": [
    "# Requirements\n",
    "\n",
    "1. Be able to control the voice assistant from voice\n",
    "2. BE able to talk to it as well as perform commands/actions \n",
    "3. Tasks\n",
    "   1. Create tasks in some task backlog db\n",
    "   2. Create, read, edit and delete files locally\n",
    "   3. Send emails\n",
    "   4. Fully local setup (audio transcription and the AI should be fully local)\n",
    "   5. Answer questions about personal notes and knowledge management stuff "
   ]
  },
  {
   "cell_type": "code",
   "execution_count": 5,
   "metadata": {},
   "outputs": [
    {
     "name": "stderr",
     "output_type": "stream",
     "text": [
      "/Users/greatmaster/miniconda3/envs/test-env/lib/python3.12/site-packages/transformers/models/whisper/generation_whisper.py:496: FutureWarning: The input name `inputs` is deprecated. Please make sure to use `input_features` instead.\n",
      "  warnings.warn(\n",
      "Due to a bug fix in https://github.com/huggingface/transformers/pull/28687 transcription using a multilingual Whisper will default to language detection followed by transcription instead of translation to English.This might be a breaking change for your use case. If you want to instead always translate your audio to English, make sure to pass `language='en'`.\n",
      "Passing a tuple of `past_key_values` is deprecated and will be removed in Transformers v4.43.0. You should pass an instance of `EncoderDecoderCache` instead, e.g. `past_key_values=EncoderDecoderCache.from_legacy_cache(past_key_values)`.\n"
     ]
    },
    {
     "name": "stdout",
     "output_type": "stream",
     "text": [
      " Olá! Olá! É o Lucas. Fascinante. Eu estou amigo. Olha, quer tomar uma nota? Quer tomar uma nota? A nota é... Pois. Não se esqueça de transferir 247 mil euros para a conta de malta de Lucas Martins. Obrigado. Olá!\n"
     ]
    }
   ],
   "source": [
    "# 1 - Voice Control \n",
    "# We'll need an audion transcription model to convert audio to text \n",
    "# We'll use whisper turbo 3\n",
    "# source: https://huggingface.co/openai/whisper-large-v3-turbo\n",
    "# pip install --upgrade pip\n",
    "# pip install --upgrade transformers datasets[audio] accelerate\n",
    "\n",
    "import torch\n",
    "from transformers import AutoModelForSpeechSeq2Seq, AutoProcessor, pipeline\n",
    "\n",
    "\n",
    "# device = \"cuda:0\" if torch.cuda.is_available() else \"cpu\"\n",
    "device = \"mps\"\n",
    "torch_dtype = torch.float16\n",
    "\n",
    "model_id = \"openai/whisper-large-v3-turbo\"\n",
    "\n",
    "model = AutoModelForSpeechSeq2Seq.from_pretrained(\n",
    "    model_id, torch_dtype=torch_dtype, low_cpu_mem_usage=True, use_safetensors=True\n",
    ")\n",
    "model.to(device)\n",
    "\n",
    "processor = AutoProcessor.from_pretrained(model_id)\n",
    "\n",
    "pipe = pipeline(\n",
    "    \"automatic-speech-recognition\",\n",
    "    model=model,\n",
    "    tokenizer=processor.tokenizer,\n",
    "    feature_extractor=processor.feature_extractor,\n",
    "    torch_dtype=torch_dtype,\n",
    "    device=device,\n",
    ")\n",
    "\n",
    "result = pipe(\"./test-audio-file.mp3\")\n",
    "print(result[\"text\"])"
   ]
  },
  {
   "cell_type": "code",
   "execution_count": 6,
   "metadata": {},
   "outputs": [
    {
     "name": "stdout",
     "output_type": "stream",
     "text": [
      "The sky appears blue because of a phenomenon called Rayleigh scattering, named after the British physicist Lord Rayleigh, who first described it in the late 19th century.\n",
      "\n",
      "Here's what happens:\n",
      "\n",
      "1. When sunlight enters Earth's atmosphere, it encounters tiny molecules of gases such as nitrogen (N2) and oxygen (O2).\n",
      "2. These molecules scatter the light in all directions, but they scatter shorter (blue) wavelengths more than longer (red) wavelengths.\n",
      "3. This is because the smaller molecules are more effective at scattering the shorter wavelengths, which have a shorter wavelength and are therefore more easily deflected by the molecular collisions.\n",
      "4. As a result, the blue light is scattered in all directions and reaches our eyes from all parts of the sky, making it appear blue.\n",
      "\n",
      "On the other hand, the longer wavelengths of light (such as red and orange) are less affected by the scattering and continue to travel in a more direct path, reaching our eyes from below and above. This is why the sky can sometimes appear more red or orange during sunrise and sunset, when the sunlight has to travel through more of the atmosphere.\n",
      "\n",
      "It's worth noting that the color of the sky can also be influenced by other factors, such as:\n",
      "\n",
      "* Atmospheric conditions: Dust, pollution, and water vapor in the air can scatter light and change its appearance.\n",
      "* Time of day: The angle of the sun and the scattering of light can affect the apparent color of the sky.\n",
      "* Location: Different regions have different levels of atmospheric particles and aerosols, which can influence the color of the sky.\n",
      "\n",
      "However, Rayleigh scattering remains the primary reason for the blue color of the sky on a clear day.\n"
     ]
    }
   ],
   "source": [
    "# 2 - Interaction using LLM\n",
    "# We'll use llama 3.2 with Ollama https://ollama.com/\n",
    "# pip install ollama\n",
    "# https://github.com/ollama/ollama-python\n",
    "import ollama\n",
    "response = ollama.chat(model='llama3.2', messages=[\n",
    "  {\n",
    "    'role': 'user',\n",
    "    'content': 'Why is the sky blue?',\n",
    "  },\n",
    "])\n",
    "print(response['message']['content'])"
   ]
  },
  {
   "cell_type": "code",
   "execution_count": 7,
   "metadata": {},
   "outputs": [
    {
     "data": {
      "text/plain": [
       "'It\\'s subjective to determine which country has the \"best\" weather, as people have different preferences and tolerance levels when it comes to temperature, humidity, sunshine, and other climate-related factors. However, based on various rankings and studies, some of the countries often considered to have the most pleasant or optimal weather include:\\n\\n1. **Hawaii, USA**: Known for its tropical climate with average temperatures ranging from 70°F (21°C) to 85°F (30°C) throughout the year.\\n2. **Costa Rica**: With a tropical climate and two coastlines on the Pacific and Caribbean, Costa Rica offers a warm and sunny weather year-round, averaging 77°F (25°C).\\n3. **Spain**: The southern region of Spain, particularly the Canary Islands, have a subtropical oceanic climate with mild winters and pleasant summers.\\n4. **New Zealand**: Known for its temperate climate, New Zealand enjoys mild temperatures ranging from 50°F (10°C) in winter to 75°F (24°C) in summer.\\n5. **Australia** (specifically, the eastern coast): The eastern states of Australia, such as Queensland and New South Wales, have a subtropical oceanic climate with warm summers and mild winters.\\n\\nAccording to a study published by Travel + Leisure, which ranked countries based on their weather conditions from 2019 to 2022, **Hawaii** was voted the top destination for pleasant weather, followed closely by Spain, Costa Rica, New Zealand, and Australia.\\n\\nKeep in mind that these rankings can vary depending on individual preferences and personal experiences. Ultimately, the \"best\" weather is a matter of personal taste!'"
      ]
     },
     "execution_count": 7,
     "metadata": {},
     "output_type": "execute_result"
    }
   ],
   "source": [
    "def get_response(prompt):\n",
    "    response = ollama.chat(model='llama3.2', \n",
    "                           messages=[{'role': 'user', 'content': prompt}])\n",
    "    return response['message']['content']\n",
    "\n",
    "get_response(\"What is the country known for having the best weather in the world?\")"
   ]
  },
  {
   "cell_type": "code",
   "execution_count": 8,
   "metadata": {},
   "outputs": [
    {
     "name": "stdout",
     "output_type": "stream",
     "text": [
      "Recording...\n",
      "Recording finished.\n",
      "Audio saved as prompt.wav\n"
     ]
    }
   ],
   "source": [
    "import pyaudio\n",
    "import wave\n",
    "\n",
    "def record_audio(filename=\"prompt.mp3\", duration=3, sample_rate=44100, channels=2, chunk=1024):\n",
    "    \"\"\"\n",
    "    Record audio from the microphone and save it to a file.\n",
    "    \n",
    "    :param filename: Name of the output file (default: \"prompt.mp3\")\n",
    "    :param duration: Duration of the recording in seconds (default: 5)\n",
    "    :param sample_rate: Sample rate of the recording (default: 44100 Hz)\n",
    "    :param channels: Number of audio channels (default: 2 for stereo)\n",
    "    :param chunk: Number of frames per buffer (default: 1024)\n",
    "    \"\"\"\n",
    "    p = pyaudio.PyAudio()\n",
    "\n",
    "    stream = p.open(format=pyaudio.paInt16,\n",
    "                    channels=channels,\n",
    "                    rate=sample_rate,\n",
    "                    input=True,\n",
    "                    frames_per_buffer=chunk)\n",
    "\n",
    "    print(\"Recording...\")\n",
    "\n",
    "    frames = []\n",
    "\n",
    "    for i in range(0, int(sample_rate / chunk * duration)):\n",
    "        data = stream.read(chunk)\n",
    "        frames.append(data)\n",
    "\n",
    "    print(\"Recording finished.\")\n",
    "\n",
    "    stream.stop_stream()\n",
    "    stream.close()\n",
    "    p.terminate()\n",
    "\n",
    "    # Save the recorded data as a WAV file\n",
    "    wf = wave.open(filename.replace('.mp3', '.wav'), 'wb')\n",
    "    wf.setnchannels(channels)\n",
    "    wf.setsampwidth(p.get_sample_size(pyaudio.paInt16))\n",
    "    wf.setframerate(sample_rate)\n",
    "    wf.writeframes(b''.join(frames))\n",
    "    wf.close()\n",
    "\n",
    "    print(f\"Audio saved as {filename.replace('.mp3', '.wav')}\")\n",
    "\n",
    "# Example usage:            \n",
    "record_audio()"
   ]
  },
  {
   "cell_type": "code",
   "execution_count": 9,
   "metadata": {},
   "outputs": [
    {
     "name": "stderr",
     "output_type": "stream",
     "text": [
      "/Users/greatmaster/miniconda3/envs/test-env/lib/python3.12/site-packages/transformers/models/whisper/generation_whisper.py:496: FutureWarning: The input name `inputs` is deprecated. Please make sure to use `input_features` instead.\n",
      "  warnings.warn(\n"
     ]
    },
    {
     "data": {
      "text/plain": [
       "' What is the meaning of life?'"
      ]
     },
     "execution_count": 9,
     "metadata": {},
     "output_type": "execute_result"
    }
   ],
   "source": [
    "def transcribe(audio_filepath):\n",
    "    result = pipe(audio_filepath)\n",
    "    return result[\"text\"]\n",
    "\n",
    "transcribe(\"./prompt.wav\")"
   ]
  },
  {
   "cell_type": "code",
   "execution_count": 10,
   "metadata": {},
   "outputs": [
    {
     "name": "stdout",
     "output_type": "stream",
     "text": [
      "Recording...\n",
      "Recording finished.\n",
      "Audio saved as prompt.wav\n"
     ]
    },
    {
     "name": "stderr",
     "output_type": "stream",
     "text": [
      "/Users/greatmaster/miniconda3/envs/test-env/lib/python3.12/site-packages/transformers/models/whisper/generation_whisper.py:496: FutureWarning: The input name `inputs` is deprecated. Please make sure to use `input_features` instead.\n",
      "  warnings.warn(\n"
     ]
    },
    {
     "data": {
      "text/plain": [
       "'What a daunting task! Narrowing down the countless amazing books out there to just three is a challenge, but here are some suggestions that have had a significant impact on literature and human understanding:\\n\\n1. **\"To Kill a Mockingbird\" by Harper Lee**: This Pulitzer Prize-winning novel has become an American classic, exploring themes of racial injustice, tolerance, and the loss of innocence in a small Alabama town during the 1930s. Through the eyes of Scout Finch, we see the world from a child\\'s perspective, gaining insight into the complexities of human nature.\\n2. **\"The Alchemist\" by Paulo Coelho**: This international bestseller tells the story of Santiago, a young shepherd on a quest to fulfill his personal legend and find his treasure. Along the way, he encounters various spiritual teachers, mythical creatures, and surreal events that guide him toward self-discovery and enlightenment.\\n3. **\"1984\" by George Orwell**: Published in 1949, this dystopian novel depicts a chilling vision of a totalitarian future where independent thought is discouraged, and the government exercises total control over citizens\\' lives. As Winston Smith begins to question the official ideology, he becomes embroiled in a struggle against the oppressive regime, raising questions about the nature of freedom, truth, and humanity.\\n\\nThese books have all had a significant impact on literature and human understanding, and reading them will provide you with a deeper insight into the human condition, empathy, and the complexities of life.\\n\\nHonorable mentions:\\n\\n- \"The Lord of the Rings\" by J.R.R. Tolkien\\n- \"The Handmaid\\'s Tale\" by Margaret Atwood\\n- \"One Hundred Years of Solitude\" by Gabriel García Márquez\\n\\nFeel free to explore these recommendations and discover more books that resonate with you!'"
      ]
     },
     "execution_count": 10,
     "metadata": {},
     "output_type": "execute_result"
    }
   ],
   "source": [
    "record_audio()\n",
    "prompt = transcribe(\"./prompt.wav\")\n",
    "get_response(prompt)"
   ]
  },
  {
   "cell_type": "markdown",
   "metadata": {},
   "source": [
    "**Tasks**\n",
    "   1. Create tasks in some task backlog db\n",
    "   2. Create, read, edit and delete files locally\n",
    "   3. Send emails\n",
    "   4. Fully local setup (audio transcription and the AI should be fully local)\n",
    "   5. Answer questions about personal notes and knowledge management stuff "
   ]
  },
  {
   "cell_type": "code",
   "execution_count": 13,
   "metadata": {},
   "outputs": [
    {
     "data": {
      "text/html": [
       "<div>\n",
       "<style scoped>\n",
       "    .dataframe tbody tr th:only-of-type {\n",
       "        vertical-align: middle;\n",
       "    }\n",
       "\n",
       "    .dataframe tbody tr th {\n",
       "        vertical-align: top;\n",
       "    }\n",
       "\n",
       "    .dataframe thead th {\n",
       "        text-align: right;\n",
       "    }\n",
       "</style>\n",
       "<table border=\"1\" class=\"dataframe\">\n",
       "  <thead>\n",
       "    <tr style=\"text-align: right;\">\n",
       "      <th></th>\n",
       "      <th>task</th>\n",
       "      <th>status</th>\n",
       "      <th>creation_date</th>\n",
       "      <th>completed_date</th>\n",
       "    </tr>\n",
       "  </thead>\n",
       "  <tbody>\n",
       "  </tbody>\n",
       "</table>\n",
       "</div>"
      ],
      "text/plain": [
       "Empty DataFrame\n",
       "Columns: [task, status, creation_date, completed_date]\n",
       "Index: []"
      ]
     },
     "execution_count": 13,
     "metadata": {},
     "output_type": "execute_result"
    }
   ],
   "source": [
    "# Creating the task db first before writing the tools for the model\n",
    "import pandas as pd\n",
    "from datetime import datetime\n",
    "\n",
    "# Create an empty DataFrame for the tasks database\n",
    "tasks_df = pd.DataFrame(columns=['task', 'status', 'creation_date', 'completed_date'])\n",
    "\n",
    "tasks_df"
   ]
  },
  {
   "cell_type": "code",
   "execution_count": 23,
   "metadata": {},
   "outputs": [],
   "source": [
    "# Tool for adding a task\n",
    "def add_task(task_description):\n",
    "    \"\"\"\n",
    "    Add a task to the tasks database.\n",
    "    \"\"\"\n",
    "    new_task = pd.DataFrame({\n",
    "        'task': [task_description],\n",
    "        'status': ['Not Started'],\n",
    "        'creation_date': [datetime.now().strftime('%Y-%m-%d %H:%M:%S')],\n",
    "        'completed_date': [None]\n",
    "    })\n",
    "    global tasks_df\n",
    "    tasks_df = pd.concat([tasks_df, new_task], ignore_index=True)\n",
    "    \n",
    "    return tasks_df"
   ]
  },
  {
   "cell_type": "markdown",
   "metadata": {},
   "source": [
    "# Tool Calling\n",
    "\n",
    "Tool calling is about giving LLMs the ability to perform actions.\n",
    "\n",
    "```\n",
    "{\n",
    "    'type': 'function',\n",
    "    'function': {\n",
    "        'name': 'create_file',\n",
    "        'description': 'Create a new file with given content',\n",
    "        'parameters': {\n",
    "            'type': 'object',\n",
    "            'properties': {\n",
    "                'filename': {\n",
    "                    'type': 'string',\n",
    "                    'description': 'The name of the file to create',\n",
    "                },\n",
    "                'content': {\n",
    "                    'type': 'string',\n",
    "                    'description': 'The content to write to the file',\n",
    "                },\n",
    "            },\n",
    "            'required': ['filename', 'content'],\n",
    "        },\n",
    "    },\n",
    "},\n",
    "```"
   ]
  },
  {
   "cell_type": "code",
   "execution_count": 17,
   "metadata": {},
   "outputs": [],
   "source": [
    "tool_add_tasks_to_db = {\n",
    "    'type': 'function',\n",
    "    'function': {\n",
    "        'name': 'add_task',\n",
    "        'description': 'Add a task to the tasks database',\n",
    "        'parameters': {\n",
    "            'type': 'object',\n",
    "            'properties': {\n",
    "                'task_description': {\n",
    "                    'type': 'string',\n",
    "                    'description': 'The description of the task to add',\n",
    "                },\n",
    "            },\n",
    "            'required': ['task_description'],\n",
    "        },\n",
    "    },\n",
    "}"
   ]
  },
  {
   "cell_type": "code",
   "execution_count": 24,
   "metadata": {},
   "outputs": [],
   "source": [
    "# Creating tasks in a backlog task db\n",
    "def get_response_with_tools(prompt):\n",
    "    response = ollama.chat(model='llama3.2', \n",
    "                           messages=[{'role': 'user', 'content': prompt}],\n",
    "                           tools=[tool_add_tasks_to_db])\n",
    "    # Process tool calls if present\n",
    "    if 'tool_calls' in response['message']:\n",
    "        for tool_call in response['message']['tool_calls']:\n",
    "            if tool_call['function']['name'] == 'add_task':\n",
    "                task_description = tool_call['function']['arguments']['task_description']\n",
    "                add_task(task_description)\n",
    "                print(f\"Task added: {task_description}\")\n",
    "    else:\n",
    "        return response['message']['content']"
   ]
  },
  {
   "cell_type": "code",
   "execution_count": 25,
   "metadata": {},
   "outputs": [
    {
     "name": "stdout",
     "output_type": "stream",
     "text": [
      "Task added: Create a local voice AI assistant\n"
     ]
    }
   ],
   "source": [
    "get_response_with_tools(\"Create a task to create a local voice AI assistant\")"
   ]
  },
  {
   "cell_type": "code",
   "execution_count": 26,
   "metadata": {},
   "outputs": [
    {
     "data": {
      "text/html": [
       "<div>\n",
       "<style scoped>\n",
       "    .dataframe tbody tr th:only-of-type {\n",
       "        vertical-align: middle;\n",
       "    }\n",
       "\n",
       "    .dataframe tbody tr th {\n",
       "        vertical-align: top;\n",
       "    }\n",
       "\n",
       "    .dataframe thead th {\n",
       "        text-align: right;\n",
       "    }\n",
       "</style>\n",
       "<table border=\"1\" class=\"dataframe\">\n",
       "  <thead>\n",
       "    <tr style=\"text-align: right;\">\n",
       "      <th></th>\n",
       "      <th>task</th>\n",
       "      <th>status</th>\n",
       "      <th>creation_date</th>\n",
       "      <th>completed_date</th>\n",
       "    </tr>\n",
       "  </thead>\n",
       "  <tbody>\n",
       "    <tr>\n",
       "      <th>0</th>\n",
       "      <td>Create a local voice AI assistant</td>\n",
       "      <td>Not Started</td>\n",
       "      <td>2024-10-20 12:39:31</td>\n",
       "      <td>None</td>\n",
       "    </tr>\n",
       "  </tbody>\n",
       "</table>\n",
       "</div>"
      ],
      "text/plain": [
       "                                task       status        creation_date  \\\n",
       "0  Create a local voice AI assistant  Not Started  2024-10-20 12:39:31   \n",
       "\n",
       "  completed_date  \n",
       "0           None  "
      ]
     },
     "execution_count": 26,
     "metadata": {},
     "output_type": "execute_result"
    }
   ],
   "source": [
    "tasks_df"
   ]
  },
  {
   "cell_type": "code",
   "execution_count": 42,
   "metadata": {},
   "outputs": [],
   "source": [
    "tool_create_file = {\n",
    "            'type': 'function',\n",
    "            'function': {\n",
    "                'name': 'create_file',\n",
    "                'description': 'Create a new file with given content',\n",
    "                'parameters': {\n",
    "                    'type': 'object',\n",
    "                    'properties': {\n",
    "                        'filename': {\n",
    "                            'type': 'string',\n",
    "                            'description': 'The name of the file to create',\n",
    "                        },\n",
    "                        'content': {\n",
    "                            'type': 'string',\n",
    "                            'description': 'The content to write to the file',\n",
    "                        },\n",
    "                    },\n",
    "                    'required': ['filename', 'content'],\n",
    "                },\n",
    "            },\n",
    "        }\n",
    "tool_read_file = {\n",
    "            'type': 'function',\n",
    "            'function': {\n",
    "                'name': 'read_file',\n",
    "                'description': 'Read the content of a file',\n",
    "                'parameters': {\n",
    "                    'type': 'object',\n",
    "                    'properties': {\n",
    "                        'filename': {\n",
    "                            'type': 'string',\n",
    "                            'description': 'The name of the file to read',\n",
    "                        },\n",
    "                    },\n",
    "                    'required': ['filename'],\n",
    "                },\n",
    "            },\n",
    "        }\n",
    "tool_delete_file = {\n",
    "            'type': 'function',\n",
    "            'function': {\n",
    "                'name': 'delete_file',\n",
    "                'description': 'Delete a file',\n",
    "                'parameters': {\n",
    "                    'type': 'object',\n",
    "                    'properties': {\n",
    "                        'filename': {\n",
    "                            'type': 'string',\n",
    "                            'description': 'The name of the file to delete',\n",
    "                        },\n",
    "                    },\n",
    "                    'required': ['filename'],\n",
    "                },\n",
    "            },\n",
    "        }\n",
    "\n",
    "tool_edit_file = {\n",
    "            'type': 'function', \n",
    "            'function': {\n",
    "                'name': 'edit_file',\n",
    "                'description': 'Edit the content of a file',\n",
    "                'parameters': {\n",
    "                    'type': 'object',\n",
    "                    'properties': {\n",
    "                        'filename': {\n",
    "                            'type': 'string',\n",
    "                            'description': 'The name of the file to edit',\n",
    "                        },\n",
    "                        'content': {\n",
    "                            'type': 'string',\n",
    "                            'description': 'The content to write to the file',\n",
    "                        },\n",
    "                    },\n",
    "                    'required': ['filename', 'content'],\n",
    "                },\n",
    "            },\n",
    "        }\n",
    "tools = [tool_create_file, tool_read_file, tool_delete_file, tool_add_tasks_to_db]"
   ]
  },
  {
   "cell_type": "code",
   "execution_count": 43,
   "metadata": {},
   "outputs": [],
   "source": [
    "import os\n",
    "# Writing functions to create, read, edit and delete files\n",
    "\n",
    "def create_file(filename, content):\n",
    "    with open(filename, 'w') as file:\n",
    "        file.write(content)\n",
    "    return f\"File {filename} created successfully\"\n",
    "\n",
    "def read_file(filename):\n",
    "    with open(filename, 'r') as file:\n",
    "        return file.read()\n",
    "\n",
    "def edit_file(filename, content):\n",
    "    with open(filename, 'w') as file:\n",
    "        file.write(content)\n",
    "    return f\"File {filename} edited successfully\"\n",
    "\n",
    "def delete_file(filename):\n",
    "    os.remove(filename)\n",
    "    return f\"File {filename} deleted successfully\"\n",
    "\n",
    "# Creating tasks in a backlog task db\n",
    "def get_response_with_tools(prompt):\n",
    "    response = ollama.chat(model='llama3.2', \n",
    "                           messages=[{'role': 'user', 'content': prompt}],\n",
    "                           tools=tools)\n",
    "    # Process tool calls if present\n",
    "    if 'tool_calls' in response['message']:\n",
    "        for tool_call in response['message']['tool_calls']:\n",
    "            if tool_call['function']['name'] == 'add_task':\n",
    "                task_description = tool_call['function']['arguments']['task_description']\n",
    "                add_task(task_description)\n",
    "                print(f\"Task added: {task_description}\")\n",
    "            elif tool_call['function']['name'] == 'create_file':\n",
    "                print(\"Creating file...\")\n",
    "                filename = tool_call['function']['arguments']['filename']\n",
    "                content = tool_call['function']['arguments']['content']\n",
    "                create_file(filename, content)\n",
    "                print(f\"File created: {filename}\")\n",
    "            elif tool_call['function']['name'] == 'read_file':\n",
    "                print(\"Reading file...\")\n",
    "                filename = tool_call['function']['arguments']['filename']\n",
    "                content = read_file(filename)\n",
    "                print(f\"File content: {content}\")\n",
    "            elif tool_call['function']['name'] == 'delete_file':\n",
    "                print(\"Deleting file...\")\n",
    "                filename = tool_call['function']['arguments']['filename']\n",
    "                delete_file(filename)\n",
    "                print(f\"File deleted: {filename}\")\n",
    "    else:\n",
    "        return response['message']['content']"
   ]
  },
  {
   "cell_type": "code",
   "execution_count": 38,
   "metadata": {},
   "outputs": [
    {
     "name": "stdout",
     "output_type": "stream",
     "text": [
      "File created: test.txt\n"
     ]
    }
   ],
   "source": [
    "get_response_with_tools(\"Create a file called 'test.txt' with the content 'Hello, world!'\")"
   ]
  },
  {
   "cell_type": "code",
   "execution_count": 36,
   "metadata": {},
   "outputs": [
    {
     "data": {
      "text/html": [
       "<div>\n",
       "<style scoped>\n",
       "    .dataframe tbody tr th:only-of-type {\n",
       "        vertical-align: middle;\n",
       "    }\n",
       "\n",
       "    .dataframe tbody tr th {\n",
       "        vertical-align: top;\n",
       "    }\n",
       "\n",
       "    .dataframe thead th {\n",
       "        text-align: right;\n",
       "    }\n",
       "</style>\n",
       "<table border=\"1\" class=\"dataframe\">\n",
       "  <thead>\n",
       "    <tr style=\"text-align: right;\">\n",
       "      <th></th>\n",
       "      <th>task</th>\n",
       "      <th>status</th>\n",
       "      <th>creation_date</th>\n",
       "      <th>completed_date</th>\n",
       "    </tr>\n",
       "  </thead>\n",
       "  <tbody>\n",
       "    <tr>\n",
       "      <th>0</th>\n",
       "      <td>Create a local voice AI assistant</td>\n",
       "      <td>Not Started</td>\n",
       "      <td>2024-10-20 12:39:31</td>\n",
       "      <td>None</td>\n",
       "    </tr>\n",
       "    <tr>\n",
       "      <th>1</th>\n",
       "      <td>Hello, world!</td>\n",
       "      <td>Not Started</td>\n",
       "      <td>2024-10-20 12:44:55</td>\n",
       "      <td>None</td>\n",
       "    </tr>\n",
       "    <tr>\n",
       "      <th>2</th>\n",
       "      <td>Hello, world!</td>\n",
       "      <td>Not Started</td>\n",
       "      <td>2024-10-20 12:45:59</td>\n",
       "      <td>None</td>\n",
       "    </tr>\n",
       "    <tr>\n",
       "      <th>3</th>\n",
       "      <td>create a file directly called</td>\n",
       "      <td>Not Started</td>\n",
       "      <td>2024-10-20 12:46:15</td>\n",
       "      <td>None</td>\n",
       "    </tr>\n",
       "  </tbody>\n",
       "</table>\n",
       "</div>"
      ],
      "text/plain": [
       "                                task       status        creation_date  \\\n",
       "0  Create a local voice AI assistant  Not Started  2024-10-20 12:39:31   \n",
       "1                      Hello, world!  Not Started  2024-10-20 12:44:55   \n",
       "2                      Hello, world!  Not Started  2024-10-20 12:45:59   \n",
       "3     create a file directly called   Not Started  2024-10-20 12:46:15   \n",
       "\n",
       "  completed_date  \n",
       "0           None  \n",
       "1           None  \n",
       "2           None  \n",
       "3           None  "
      ]
     },
     "execution_count": 36,
     "metadata": {},
     "output_type": "execute_result"
    }
   ],
   "source": [
    "tasks_df"
   ]
  },
  {
   "cell_type": "code",
   "execution_count": 41,
   "metadata": {},
   "outputs": [
    {
     "name": "stdout",
     "output_type": "stream",
     "text": [
      "Recording...\n",
      "Recording finished.\n",
      "Audio saved as prompt.wav\n"
     ]
    },
    {
     "name": "stderr",
     "output_type": "stream",
     "text": [
      "/Users/greatmaster/miniconda3/envs/test-env/lib/python3.12/site-packages/transformers/models/whisper/generation_whisper.py:496: FutureWarning: The input name `inputs` is deprecated. Please make sure to use `input_features` instead.\n",
      "  warnings.warn(\n"
     ]
    },
    {
     "name": "stdout",
     "output_type": "stream",
     "text": [
      "Creating file...\n",
      "File created: test.txt\n"
     ]
    }
   ],
   "source": [
    "record_audio(duration=5)\n",
    "prompt = transcribe(\"./prompt.wav\")\n",
    "get_response_with_tools(prompt)"
   ]
  },
  {
   "cell_type": "code",
   "execution_count": 44,
   "metadata": {},
   "outputs": [
    {
     "name": "stdout",
     "output_type": "stream",
     "text": [
      "Tasks saved to tasks.csv\n"
     ]
    }
   ],
   "source": [
    "# Save tasks_df to CSV file\n",
    "tasks_df.to_csv('tasks.csv', index=False)\n",
    "print(\"Tasks saved to tasks.csv\")"
   ]
  }
 ],
 "metadata": {
  "kernelspec": {
   "display_name": "test-env",
   "language": "python",
   "name": "test-env"
  },
  "language_info": {
   "codemirror_mode": {
    "name": "ipython",
    "version": 3
   },
   "file_extension": ".py",
   "mimetype": "text/x-python",
   "name": "python",
   "nbconvert_exporter": "python",
   "pygments_lexer": "ipython3",
   "version": "3.12.4"
  }
 },
 "nbformat": 4,
 "nbformat_minor": 2
}
